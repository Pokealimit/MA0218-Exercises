{
 "cells": [
  {
   "cell_type": "markdown",
   "metadata": {},
   "source": [
    "# Exercise 7 : Graphics with Plotly\n",
    "\n",
    "---\n",
    "\n",
    "### Essential Libraries\n",
    "\n",
    "Let us begin by importing the essential Python Libraries.\n",
    "\n",
    "> NumPy : Library for Numeric Computations in Python  \n",
    "> Pandas : Library for Data Acquisition and Preparation  \n",
    "> Matplotlib : Low-level library for Data Visualization  \n",
    "> Seaborn : Higher-level library for Data Visualization  \n",
    "> **Plotly : High-level library for Interactive Graphics**"
   ]
  },
  {
   "cell_type": "code",
   "execution_count": null,
   "metadata": {},
   "outputs": [],
   "source": [
    "# Basic Libraries\n",
    "import numpy as np\n",
    "import pandas as pd\n",
    "import seaborn as sb\n",
    "import matplotlib.pyplot as plt # we only need pyplot\n",
    "sb.set() # set the default Seaborn style for graphics"
   ]
  },
  {
   "cell_type": "markdown",
   "metadata": {},
   "source": [
    "Import the most common `plotly` libraries for the exercise."
   ]
  },
  {
   "cell_type": "code",
   "execution_count": null,
   "metadata": {},
   "outputs": [],
   "source": [
    "import plotly.offline as py\n",
    "import plotly.figure_factory as ff\n",
    "import plotly.graph_objs as go\n",
    "from plotly import tools"
   ]
  },
  {
   "cell_type": "code",
   "execution_count": null,
   "metadata": {},
   "outputs": [],
   "source": [
    "# Activate inline plotting in notebook\n",
    "py.init_notebook_mode(connected = False)"
   ]
  },
  {
   "cell_type": "code",
   "execution_count": null,
   "metadata": {},
   "outputs": [],
   "source": []
  },
  {
   "cell_type": "markdown",
   "metadata": {},
   "source": [
    "---\n",
    "\n",
    "## Setup : Import the Dataset\n",
    "\n",
    "Dataset from Kaggle : The **\"House Prices\"** competition     \n",
    "Source: https://www.kaggle.com/c/house-prices-advanced-regression-techniques\n",
    "\n",
    "The dataset is `train.csv`; hence we use the `read_csv` function from Pandas.  \n",
    "Immediately after importing, take a quick look at the data using the `head` function."
   ]
  },
  {
   "cell_type": "code",
   "execution_count": null,
   "metadata": {},
   "outputs": [],
   "source": [
    "houseData = pd.read_csv('train.csv')\n",
    "houseData.head()"
   ]
  },
  {
   "cell_type": "code",
   "execution_count": null,
   "metadata": {},
   "outputs": [],
   "source": []
  },
  {
   "cell_type": "markdown",
   "metadata": {},
   "source": [
    "---\n",
    "\n",
    "# Distribution of SalePrice\n",
    "\n",
    "You can use `plotly` to produce a cool histogram for `SalePrice`."
   ]
  },
  {
   "cell_type": "code",
   "execution_count": null,
   "metadata": {},
   "outputs": [],
   "source": [
    "# Get Histogram from plotly.graph_objs (go)\n",
    "trace = go.Histogram(x = houseData['SalePrice'], histnorm = 'density')\n",
    "layout = go.Layout(title = 'Sale Price Distribution')\n",
    "data = [trace]\n",
    "fig = go.Figure(data = data, layout = layout)\n",
    "py.iplot(fig)"
   ]
  },
  {
   "cell_type": "code",
   "execution_count": null,
   "metadata": {},
   "outputs": [],
   "source": []
  },
  {
   "cell_type": "markdown",
   "metadata": {},
   "source": [
    "--- \n",
    "\n",
    "# Distribution of Other Variables\n",
    "\n",
    "You can visualize cool boxplots with `plotly` too."
   ]
  },
  {
   "cell_type": "code",
   "execution_count": null,
   "metadata": {},
   "outputs": [],
   "source": [
    "trace0 = go.Box(x = houseData['GrLivArea'], showlegend = False, name = \"Living Area\")\n",
    "trace1 = go.Box(x = houseData['TotalBsmtSF'], showlegend = False, name = \"Basement Area\")\n",
    "trace2 = go.Box(x = houseData['GarageArea'], showlegend = False, name = \"Garage Area\")\n",
    "\n",
    "data = [trace0, trace1, trace2]\n",
    "py.iplot(data)"
   ]
  },
  {
   "cell_type": "code",
   "execution_count": null,
   "metadata": {},
   "outputs": [],
   "source": []
  },
  {
   "cell_type": "markdown",
   "metadata": {},
   "source": [
    "---\n",
    "\n",
    "# SalePrice vs Other Variables\n",
    "\n",
    "You can use `plotly` to produce cool multi-variate jointplots too."
   ]
  },
  {
   "cell_type": "code",
   "execution_count": null,
   "metadata": {},
   "outputs": [],
   "source": [
    "fig = tools.make_subplots(rows = 2, cols = 2, \n",
    "                          subplot_titles = ('GrLiv Area Vs. Sale Price', \n",
    "                                            'Lot Area Vs. Sale Price',\n",
    "                                            'Total Basement Vs. Sale Price', \n",
    "                                            'Garage Area Vs. Sale Price'))\n",
    "\n",
    "p1 = go.Scatter(\n",
    "        x = houseData['GrLivArea'],\n",
    "        y = houseData['SalePrice'],\n",
    "        mode = 'markers', showlegend = False)\n",
    "\n",
    "fig.append_trace(p1,1, 1)\n",
    "\n",
    "\n",
    "p2 = go.Scatter(\n",
    "        x = houseData['LotArea'],\n",
    "        y = houseData['SalePrice'],\n",
    "        mode = 'markers', showlegend = False)\n",
    "\n",
    "fig.append_trace(p2, 1, 2)\n",
    "\n",
    "\n",
    "p3 = go.Scatter(\n",
    "        x = houseData['TotalBsmtSF'],\n",
    "        y = houseData['SalePrice'],\n",
    "        mode = 'markers', showlegend = False)\n",
    "\n",
    "fig.append_trace(p3, 2, 1)\n",
    "\n",
    "\n",
    "p4 = go.Scatter(\n",
    "        x = houseData['GarageArea'],\n",
    "        y = houseData['SalePrice'],\n",
    "        mode = 'markers', showlegend = False)\n",
    "\n",
    "fig.append_trace(p4, 2, 2)\n",
    "\n",
    "fig['layout'].update(height = 800, width = 1000)\n",
    "py.iplot(fig)"
   ]
  },
  {
   "cell_type": "code",
   "execution_count": null,
   "metadata": {},
   "outputs": [],
   "source": []
  },
  {
   "cell_type": "markdown",
   "metadata": {},
   "source": [
    "You can of course plot the heatmap for correlation as well."
   ]
  },
  {
   "cell_type": "code",
   "execution_count": null,
   "metadata": {},
   "outputs": [],
   "source": [
    "houseNumData = pd.DataFrame(houseData[['LotArea', 'GrLivArea', 'TotalBsmtSF', 'GarageArea', 'SalePrice']])\n",
    "\n",
    "# Correlation Matrix\n",
    "print(houseNumData.corr())\n",
    "\n",
    "# Heatmap of the Correlation Matrix\n",
    "trace = go.Heatmap(z = houseNumData.corr(), \n",
    "                   x = houseNumData.columns, \n",
    "                   y = houseNumData.columns, \n",
    "                   colorscale = 'Hot',\n",
    "                   reversescale = True)\n",
    "data=[trace]\n",
    "py.iplot(data, filename='labelled-heatmap')"
   ]
  },
  {
   "cell_type": "code",
   "execution_count": null,
   "metadata": {},
   "outputs": [],
   "source": []
  },
  {
   "cell_type": "markdown",
   "metadata": {},
   "source": [
    "### References\n",
    "\n",
    "More such Statistical Graphics are demonstrated at https://plot.ly/python/statistical-charts/     \n",
    "Basic charts and plots by Plotly are demostrated at https://plot.ly/python/basic-charts/    \n",
    "Fundamental components of Plotly are illustrated at https://plot.ly/python/plotly-fundamentals/    "
   ]
  },
  {
   "cell_type": "code",
   "execution_count": null,
   "metadata": {},
   "outputs": [],
   "source": []
  },
  {
   "cell_type": "markdown",
   "metadata": {},
   "source": [
    "---\n",
    "\n",
    "# Cool Examples\n",
    "\n",
    "Here are a few cool examples from the `plotly` website.\n",
    "\n",
    "### 3D Interactive Plot"
   ]
  },
  {
   "cell_type": "code",
   "execution_count": null,
   "metadata": {},
   "outputs": [],
   "source": [
    "s = np.linspace(0, 2 * np.pi, 240)\n",
    "t = np.linspace(0, np.pi, 240)\n",
    "tGrid, sGrid = np.meshgrid(s, t)\n",
    "\n",
    "r = 2 + np.sin(7 * sGrid + 5 * tGrid)  # r = 2 + sin(7s+5t)\n",
    "x = r * np.cos(sGrid) * np.sin(tGrid)  # x = r*cos(s)*sin(t)\n",
    "y = r * np.sin(sGrid) * np.sin(tGrid)  # y = r*sin(s)*sin(t)\n",
    "z = r * np.cos(tGrid)                  # z = r*cos(t)\n",
    "\n",
    "surface = go.Surface(x=x, y=y, z=z)\n",
    "data = [surface]\n",
    "\n",
    "layout = go.Layout(\n",
    "    title='Parametric Plot',\n",
    "    scene=dict(\n",
    "        xaxis=dict(\n",
    "            gridcolor='rgb(255, 255, 255)',\n",
    "            zerolinecolor='rgb(255, 255, 255)',\n",
    "            showbackground=True,\n",
    "            backgroundcolor='rgb(230, 230,230)'\n",
    "        ),\n",
    "        yaxis=dict(\n",
    "            gridcolor='rgb(255, 255, 255)',\n",
    "            zerolinecolor='rgb(255, 255, 255)',\n",
    "            showbackground=True,\n",
    "            backgroundcolor='rgb(230, 230,230)'\n",
    "        ),\n",
    "        zaxis=dict(\n",
    "            gridcolor='rgb(255, 255, 255)',\n",
    "            zerolinecolor='rgb(255, 255, 255)',\n",
    "            showbackground=True,\n",
    "            backgroundcolor='rgb(230, 230,230)'\n",
    "        )\n",
    "    )\n",
    ")\n",
    "\n",
    "fig = go.Figure(data=data, layout=layout)\n",
    "py.iplot(fig, filename='jupyter-parametric_plot')"
   ]
  },
  {
   "cell_type": "code",
   "execution_count": null,
   "metadata": {},
   "outputs": [],
   "source": []
  },
  {
   "cell_type": "markdown",
   "metadata": {},
   "source": [
    "### Gapminder style World Statistics"
   ]
  },
  {
   "cell_type": "code",
   "execution_count": null,
   "metadata": {},
   "outputs": [],
   "source": [
    "url = 'https://raw.githubusercontent.com/plotly/datasets/master/gapminderDataFiveYear.csv'\n",
    "dataset = pd.read_csv(url)\n",
    "\n",
    "years = ['1952', '1962', '1967', '1972', '1977', '1982', '1987', '1992', '1997', '2002', '2007']\n",
    "# make list of continents\n",
    "continents = []\n",
    "for continent in dataset['continent']:\n",
    "    if continent not in continents:\n",
    "        continents.append(continent)\n",
    "# make figure\n",
    "figure = {\n",
    "    'data': [],\n",
    "    'layout': {},\n",
    "    'frames': []\n",
    "}\n",
    "\n",
    "# fill in most of layout\n",
    "figure['layout']['xaxis'] = {'range': [30, 85], 'title': 'Life Expectancy'}\n",
    "figure['layout']['yaxis'] = {'title': 'GDP per Capita', 'type': 'log'}\n",
    "figure['layout']['hovermode'] = 'closest'\n",
    "figure['layout']['sliders'] = {\n",
    "    'args': [\n",
    "        'transition', {\n",
    "            'duration': 400,\n",
    "            'easing': 'cubic-in-out'\n",
    "        }\n",
    "    ],\n",
    "    'initialValue': '1952',\n",
    "    'plotlycommand': 'animate',\n",
    "    'values': years,\n",
    "    'visible': True\n",
    "}\n",
    "figure['layout']['updatemenus'] = [\n",
    "    {\n",
    "        'buttons': [\n",
    "            {\n",
    "                'args': [None, {'frame': {'duration': 500, 'redraw': False},\n",
    "                         'fromcurrent': True, 'transition': {'duration': 300, 'easing': 'quadratic-in-out'}}],\n",
    "                'label': 'Play',\n",
    "                'method': 'animate'\n",
    "            },\n",
    "            {\n",
    "                'args': [[None], {'frame': {'duration': 0, 'redraw': False}, 'mode': 'immediate',\n",
    "                'transition': {'duration': 0}}],\n",
    "                'label': 'Pause',\n",
    "                'method': 'animate'\n",
    "            }\n",
    "        ],\n",
    "        'direction': 'left',\n",
    "        'pad': {'r': 10, 't': 87},\n",
    "        'showactive': False,\n",
    "        'type': 'buttons',\n",
    "        'x': 0.1,\n",
    "        'xanchor': 'right',\n",
    "        'y': 0,\n",
    "        'yanchor': 'top'\n",
    "    }\n",
    "]\n",
    "\n",
    "sliders_dict = {\n",
    "    'active': 0,\n",
    "    'yanchor': 'top',\n",
    "    'xanchor': 'left',\n",
    "    'currentvalue': {\n",
    "        'font': {'size': 20},\n",
    "        'prefix': 'Year:',\n",
    "        'visible': True,\n",
    "        'xanchor': 'right'\n",
    "    },\n",
    "    'transition': {'duration': 300, 'easing': 'cubic-in-out'},\n",
    "    'pad': {'b': 10, 't': 50},\n",
    "    'len': 0.9,\n",
    "    'x': 0.1,\n",
    "    'y': 0,\n",
    "    'steps': []\n",
    "}\n",
    "\n",
    "# make data\n",
    "year = 1952\n",
    "for continent in continents:\n",
    "    dataset_by_year = dataset[dataset['year'] == year]\n",
    "    dataset_by_year_and_cont = dataset_by_year[dataset_by_year['continent'] == continent]\n",
    "\n",
    "    data_dict = {\n",
    "        'x': list(dataset_by_year_and_cont['lifeExp']),\n",
    "        'y': list(dataset_by_year_and_cont['gdpPercap']),\n",
    "        'mode': 'markers',\n",
    "        'text': list(dataset_by_year_and_cont['country']),\n",
    "        'marker': {\n",
    "            'sizemode': 'area',\n",
    "            'sizeref': 200000,\n",
    "            'size': list(dataset_by_year_and_cont['pop'])\n",
    "        },\n",
    "        'name': continent\n",
    "    }\n",
    "    figure['data'].append(data_dict)\n",
    "    \n",
    "# make frames\n",
    "for year in years:\n",
    "    frame = {'data': [], 'name': str(year)}\n",
    "    for continent in continents:\n",
    "        dataset_by_year = dataset[dataset['year'] == int(year)]\n",
    "        dataset_by_year_and_cont = dataset_by_year[dataset_by_year['continent'] == continent]\n",
    "\n",
    "        data_dict = {\n",
    "            'x': list(dataset_by_year_and_cont['lifeExp']),\n",
    "            'y': list(dataset_by_year_and_cont['gdpPercap']),\n",
    "            'mode': 'markers',\n",
    "            'text': list(dataset_by_year_and_cont['country']),\n",
    "            'marker': {\n",
    "                'sizemode': 'area',\n",
    "                'sizeref': 200000,\n",
    "                'size': list(dataset_by_year_and_cont['pop'])\n",
    "            },\n",
    "            'name': continent\n",
    "        }\n",
    "        frame['data'].append(data_dict)\n",
    "\n",
    "    figure['frames'].append(frame)\n",
    "    slider_step = {'args': [\n",
    "        [year],\n",
    "        {'frame': {'duration': 300, 'redraw': False},\n",
    "         'mode': 'immediate',\n",
    "       'transition': {'duration': 300}}\n",
    "     ],\n",
    "     'label': year,\n",
    "     'method': 'animate'}\n",
    "    sliders_dict['steps'].append(slider_step)\n",
    "\n",
    "    \n",
    "figure['layout']['sliders'] = [sliders_dict]\n",
    "\n",
    "py.iplot(figure)"
   ]
  },
  {
   "cell_type": "code",
   "execution_count": null,
   "metadata": {},
   "outputs": [],
   "source": []
  },
  {
   "cell_type": "markdown",
   "metadata": {},
   "source": [
    "**Find out what else you can do with Plotly!** Explore on your own."
   ]
  },
  {
   "cell_type": "code",
   "execution_count": null,
   "metadata": {},
   "outputs": [],
   "source": []
  },
  {
   "cell_type": "code",
   "execution_count": null,
   "metadata": {},
   "outputs": [],
   "source": []
  }
 ],
 "metadata": {
  "kernelspec": {
   "display_name": "Python 3",
   "language": "python",
   "name": "python3"
  },
  "language_info": {
   "codemirror_mode": {
    "name": "ipython",
    "version": 3
   },
   "file_extension": ".py",
   "mimetype": "text/x-python",
   "name": "python",
   "nbconvert_exporter": "python",
   "pygments_lexer": "ipython3",
   "version": "3.6.8"
  }
 },
 "nbformat": 4,
 "nbformat_minor": 2
}

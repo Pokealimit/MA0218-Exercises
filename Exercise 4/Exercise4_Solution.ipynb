{
 "cells": [
  {
   "cell_type": "markdown",
   "metadata": {},
   "source": [
    "# Exercise 4 : Linear Regression\n",
    "\n",
    "---\n",
    "\n",
    "### Essential Libraries\n",
    "\n",
    "Let us begin by importing the essential Python Libraries.\n",
    "\n",
    "> NumPy : Library for Numeric Computations in Python  \n",
    "> Pandas : Library for Data Acquisition and Preparation  \n",
    "> Matplotlib : Low-level library for Data Visualization  \n",
    "> Seaborn : Higher-level library for Data Visualization  "
   ]
  },
  {
   "cell_type": "code",
   "execution_count": null,
   "metadata": {},
   "outputs": [],
   "source": [
    "# Basic Libraries\n",
    "import numpy as np\n",
    "import pandas as pd\n",
    "import seaborn as sb\n",
    "import matplotlib.pyplot as plt # we only need pyplot\n",
    "sb.set() # set the default Seaborn style for graphics"
   ]
  },
  {
   "cell_type": "markdown",
   "metadata": {},
   "source": [
    "---\n",
    "\n",
    "## Setup : Import the Dataset\n",
    "\n",
    "Dataset from Kaggle : The **\"House Prices\"** competition     \n",
    "Source: https://www.kaggle.com/c/house-prices-advanced-regression-techniques\n",
    "\n",
    "The dataset is `train.csv`; hence we use the `read_csv` function from Pandas.  \n",
    "Immediately after importing, take a quick look at the data using the `head` function."
   ]
  },
  {
   "cell_type": "code",
   "execution_count": null,
   "metadata": {},
   "outputs": [],
   "source": [
    "houseData = pd.read_csv('train.csv')\n",
    "houseData.head()"
   ]
  },
  {
   "cell_type": "markdown",
   "metadata": {},
   "source": [
    "---\n",
    "\n",
    "## Problem 1 : Predicting SalePrice using GrLivArea\n",
    "\n",
    "Extract the required variables from the dataset, as mentioned in the problem.     "
   ]
  },
  {
   "cell_type": "code",
   "execution_count": null,
   "metadata": {},
   "outputs": [],
   "source": [
    "houseGrLivArea = pd.DataFrame(houseData['GrLivArea'])\n",
    "houseSalePrice = pd.DataFrame(houseData['SalePrice'])"
   ]
  },
  {
   "cell_type": "markdown",
   "metadata": {},
   "source": [
    "Plot `houseSalePrice` against `houseGrLivArea` using standard JointPlot."
   ]
  },
  {
   "cell_type": "code",
   "execution_count": null,
   "metadata": {},
   "outputs": [],
   "source": [
    "sb.jointplot(houseGrLivArea, houseSalePrice, height = 12, color = \"coral\")"
   ]
  },
  {
   "cell_type": "markdown",
   "metadata": {},
   "source": [
    "Import the `LinearRegression` model from `sklearn.linear_model`."
   ]
  },
  {
   "cell_type": "code",
   "execution_count": null,
   "metadata": {},
   "outputs": [],
   "source": [
    "# Import LinearRegression model from Scikit-Learn\n",
    "from sklearn.linear_model import LinearRegression\n",
    "\n",
    "# Create a Linear Regression object\n",
    "linreg = LinearRegression()"
   ]
  },
  {
   "cell_type": "markdown",
   "metadata": {},
   "source": [
    "Prepare both the datasets by splitting in Train and Test sets.   \n",
    "Train Set with 1100 samples and Test Set with 360 samples."
   ]
  },
  {
   "cell_type": "code",
   "execution_count": null,
   "metadata": {},
   "outputs": [],
   "source": [
    "# Split the dataset into Train and Test       \n",
    "houseGrLivArea_train = pd.DataFrame(houseGrLivArea[:1100])\n",
    "houseGrLivArea_test  = pd.DataFrame(houseGrLivArea[-360:])\n",
    "houseSalePrice_train = pd.DataFrame(houseSalePrice[:1100])\n",
    "houseSalePrice_test  = pd.DataFrame(houseSalePrice[-360:])\n",
    "\n",
    "# Check the sample sizes\n",
    "print(\"Train Set :\", houseGrLivArea_train.shape, houseSalePrice_train.shape)\n",
    "print(\"Test Set  :\", houseGrLivArea_test.shape, houseSalePrice_test.shape)"
   ]
  },
  {
   "cell_type": "markdown",
   "metadata": {},
   "source": [
    "Fit Linear Regression model on `houseGrLivArea_train` and `houseSalePrice_train`"
   ]
  },
  {
   "cell_type": "code",
   "execution_count": null,
   "metadata": {},
   "outputs": [],
   "source": [
    "linreg.fit(houseGrLivArea_train, houseSalePrice_train)"
   ]
  },
  {
   "cell_type": "markdown",
   "metadata": {},
   "source": [
    "#### Visual Representation of the Linear Regression Model\n",
    "\n",
    "Check the coefficients of the Linear Regression model you just fit."
   ]
  },
  {
   "cell_type": "code",
   "execution_count": null,
   "metadata": {},
   "outputs": [],
   "source": [
    "print('Intercept \\t: b = ', linreg.intercept_)\n",
    "print('Coefficients \\t: a = ', linreg.coef_)"
   ]
  },
  {
   "cell_type": "markdown",
   "metadata": {},
   "source": [
    "Plot the regression line based on the coefficients-intercept form."
   ]
  },
  {
   "cell_type": "code",
   "execution_count": null,
   "metadata": {},
   "outputs": [],
   "source": [
    "# Formula for the Regression line\n",
    "regline_x = houseGrLivArea_train\n",
    "regline_y = linreg.intercept_ + linreg.coef_ * houseGrLivArea_train\n",
    "\n",
    "# Plot the Linear Regression line\n",
    "f, axes = plt.subplots(1, 1, figsize=(16, 8))\n",
    "plt.scatter(houseGrLivArea_train, houseSalePrice_train)\n",
    "plt.plot(regline_x, regline_y, 'r-', linewidth = 3)\n",
    "plt.show()"
   ]
  },
  {
   "cell_type": "markdown",
   "metadata": {},
   "source": [
    "#### Prediction of Response based on the Predictor\n",
    "\n",
    "Predict `SalePrice` given `GrLivArea` in the Test dataset."
   ]
  },
  {
   "cell_type": "code",
   "execution_count": null,
   "metadata": {},
   "outputs": [],
   "source": [
    "# Predict SalePrice values corresponding to GrLivArea\n",
    "houseSalePrice_test_pred = linreg.predict(houseGrLivArea_test)\n",
    "\n",
    "# Plot the Predictions\n",
    "f, axes = plt.subplots(1, 1, figsize=(16, 8))\n",
    "plt.scatter(houseGrLivArea_test, houseSalePrice_test, color = \"green\")\n",
    "plt.scatter(houseGrLivArea_test, houseSalePrice_test_pred, color = \"red\")\n",
    "plt.show()"
   ]
  },
  {
   "cell_type": "markdown",
   "metadata": {},
   "source": [
    "#### Goodness of Fit of the Linear Regression Model\n",
    "\n",
    "Check how good the predictions are on the Train Set.    \n",
    "Metric : Explained Variance or R^2 on the Train Set."
   ]
  },
  {
   "cell_type": "code",
   "execution_count": null,
   "metadata": {},
   "outputs": [],
   "source": [
    "print(\"Explained Variance (R^2) \\t:\", linreg.score(houseGrLivArea_train, houseSalePrice_train))"
   ]
  },
  {
   "cell_type": "markdown",
   "metadata": {},
   "source": [
    "Check how good the predictions are on the Test Set.    \n",
    "Metric : Explained Variance or R^2 on the Test Set."
   ]
  },
  {
   "cell_type": "code",
   "execution_count": null,
   "metadata": {},
   "outputs": [],
   "source": [
    "print(\"Explained Variance (R^2) \\t:\", linreg.score(houseGrLivArea_test, houseSalePrice_test))"
   ]
  },
  {
   "cell_type": "code",
   "execution_count": null,
   "metadata": {},
   "outputs": [],
   "source": []
  },
  {
   "cell_type": "markdown",
   "metadata": {},
   "source": [
    "#### You should also try the following\n",
    "\n",
    "* Convert `SalePrice` to `log(SalePrice)` in the beginning and then use it for Regression     \n",
    "  Code : `houseSalePrice = pd.DataFrame(np.log(houseData['SalePrice']))`    \n",
    "  \n",
    "* Perform a *Random Train-Test Split* on the dataset before you start with the Regression      \n",
    "  Note : Check the preparation notebook `M3 LinearRegression.ipynb` for the code"
   ]
  },
  {
   "cell_type": "code",
   "execution_count": null,
   "metadata": {},
   "outputs": [],
   "source": []
  },
  {
   "cell_type": "markdown",
   "metadata": {},
   "source": [
    "---\n",
    "\n",
    "## Problem 2 : Predicting SalePrice using LotArea\n",
    "\n",
    "Extract the required variables from the dataset, as mentioned in the problem.     "
   ]
  },
  {
   "cell_type": "code",
   "execution_count": null,
   "metadata": {},
   "outputs": [],
   "source": [
    "housePredictor = pd.DataFrame(houseData['LotArea'])\n",
    "houseSalePrice = pd.DataFrame(houseData['SalePrice'])\n",
    "sb.jointplot(housePredictor, houseSalePrice, height = 12)"
   ]
  },
  {
   "cell_type": "markdown",
   "metadata": {},
   "source": [
    "#### Linear Regression on SalePrice vs Predictor"
   ]
  },
  {
   "cell_type": "code",
   "execution_count": null,
   "metadata": {},
   "outputs": [],
   "source": [
    "# Import LinearRegression model from Scikit-Learn\n",
    "from sklearn.linear_model import LinearRegression\n",
    "\n",
    "# Split the dataset into Train and Test       \n",
    "housePredictor_train = pd.DataFrame(housePredictor[:1100])\n",
    "housePredictor_test  = pd.DataFrame(housePredictor[-360:])\n",
    "houseSalePrice_train = pd.DataFrame(houseSalePrice[:1100])\n",
    "houseSalePrice_test  = pd.DataFrame(houseSalePrice[-360:])\n",
    "\n",
    "# Create a Linear Regression object\n",
    "linreg = LinearRegression()\n",
    "\n",
    "# Train the Linear Regression model\n",
    "linreg.fit(housePredictor_train, houseSalePrice_train)"
   ]
  },
  {
   "cell_type": "markdown",
   "metadata": {},
   "source": [
    "#### Visual Representation of the Linear Regression Model"
   ]
  },
  {
   "cell_type": "code",
   "execution_count": null,
   "metadata": {},
   "outputs": [],
   "source": [
    "print('Intercept \\t: b = ', linreg.intercept_)\n",
    "print('Coefficients \\t: a = ', linreg.coef_)\n",
    "\n",
    "# Formula for the Regression line\n",
    "regline_x = housePredictor_train\n",
    "regline_y = linreg.intercept_ + linreg.coef_ * housePredictor_train\n",
    "\n",
    "# Plot the Linear Regression line\n",
    "f, axes = plt.subplots(1, 1, figsize=(16, 8))\n",
    "plt.scatter(housePredictor_train, houseSalePrice_train)\n",
    "plt.plot(regline_x, regline_y, 'r-', linewidth = 3)\n",
    "plt.show()"
   ]
  },
  {
   "cell_type": "markdown",
   "metadata": {},
   "source": [
    "#### Prediction of Response based on the Predictor"
   ]
  },
  {
   "cell_type": "code",
   "execution_count": null,
   "metadata": {},
   "outputs": [],
   "source": [
    "# Predict SalePrice values corresponding to GrLivArea\n",
    "houseSalePrice_test_pred = linreg.predict(housePredictor_test)\n",
    "\n",
    "# Plot the Predictions\n",
    "f, axes = plt.subplots(1, 1, figsize=(16, 8))\n",
    "plt.scatter(housePredictor_test, houseSalePrice_test, color = \"green\")\n",
    "plt.scatter(housePredictor_test, houseSalePrice_test_pred, color = \"red\")\n",
    "plt.show()"
   ]
  },
  {
   "cell_type": "markdown",
   "metadata": {},
   "source": [
    "#### Goodness of Fit of the Linear Regression Model"
   ]
  },
  {
   "cell_type": "code",
   "execution_count": null,
   "metadata": {},
   "outputs": [],
   "source": [
    "print(\"Explained Variance (R^2) on Train Set \\t:\", linreg.score(housePredictor_train, houseSalePrice_train))\n",
    "print(\"Explained Variance (R^2) on Test Set \\t:\", linreg.score(housePredictor_test, houseSalePrice_test))"
   ]
  },
  {
   "cell_type": "code",
   "execution_count": null,
   "metadata": {},
   "outputs": [],
   "source": []
  },
  {
   "cell_type": "markdown",
   "metadata": {},
   "source": [
    "---\n",
    "\n",
    "## Problem 2 : Predicting SalePrice using TotalBsmtSF\n",
    "\n",
    "Extract the required variables from the dataset, as mentioned in the problem.     "
   ]
  },
  {
   "cell_type": "code",
   "execution_count": null,
   "metadata": {},
   "outputs": [],
   "source": [
    "housePredictor = pd.DataFrame(houseData['TotalBsmtSF'])\n",
    "houseSalePrice = pd.DataFrame(houseData['SalePrice'])\n",
    "sb.jointplot(housePredictor, houseSalePrice, height = 12)"
   ]
  },
  {
   "cell_type": "markdown",
   "metadata": {},
   "source": [
    "#### Linear Regression on SalePrice vs Predictor"
   ]
  },
  {
   "cell_type": "code",
   "execution_count": null,
   "metadata": {},
   "outputs": [],
   "source": [
    "# Import LinearRegression model from Scikit-Learn\n",
    "from sklearn.linear_model import LinearRegression\n",
    "\n",
    "# Split the dataset into Train and Test       \n",
    "housePredictor_train = pd.DataFrame(housePredictor[:1100])\n",
    "housePredictor_test  = pd.DataFrame(housePredictor[-360:])\n",
    "houseSalePrice_train = pd.DataFrame(houseSalePrice[:1100])\n",
    "houseSalePrice_test  = pd.DataFrame(houseSalePrice[-360:])\n",
    "\n",
    "# Create a Linear Regression object\n",
    "linreg = LinearRegression()\n",
    "\n",
    "# Train the Linear Regression model\n",
    "linreg.fit(housePredictor_train, houseSalePrice_train)"
   ]
  },
  {
   "cell_type": "markdown",
   "metadata": {},
   "source": [
    "#### Visual Representation of the Linear Regression Model"
   ]
  },
  {
   "cell_type": "code",
   "execution_count": null,
   "metadata": {},
   "outputs": [],
   "source": [
    "print('Intercept \\t: b = ', linreg.intercept_)\n",
    "print('Coefficients \\t: a = ', linreg.coef_)\n",
    "\n",
    "# Formula for the Regression line\n",
    "regline_x = housePredictor_train\n",
    "regline_y = linreg.intercept_ + linreg.coef_ * housePredictor_train\n",
    "\n",
    "# Plot the Linear Regression line\n",
    "f, axes = plt.subplots(1, 1, figsize=(16, 8))\n",
    "plt.scatter(housePredictor_train, houseSalePrice_train)\n",
    "plt.plot(regline_x, regline_y, 'r-', linewidth = 3)\n",
    "plt.show()"
   ]
  },
  {
   "cell_type": "markdown",
   "metadata": {},
   "source": [
    "#### Prediction of Response based on the Predictor"
   ]
  },
  {
   "cell_type": "code",
   "execution_count": null,
   "metadata": {},
   "outputs": [],
   "source": [
    "# Predict SalePrice values corresponding to GrLivArea\n",
    "houseSalePrice_test_pred = linreg.predict(housePredictor_test)\n",
    "\n",
    "# Plot the Predictions\n",
    "f, axes = plt.subplots(1, 1, figsize=(16, 8))\n",
    "plt.scatter(housePredictor_test, houseSalePrice_test, color = \"green\")\n",
    "plt.scatter(housePredictor_test, houseSalePrice_test_pred, color = \"red\")\n",
    "plt.show()"
   ]
  },
  {
   "cell_type": "markdown",
   "metadata": {},
   "source": [
    "#### Goodness of Fit of the Linear Regression Model"
   ]
  },
  {
   "cell_type": "code",
   "execution_count": null,
   "metadata": {},
   "outputs": [],
   "source": [
    "print(\"Explained Variance (R^2) on Train Set \\t:\", linreg.score(housePredictor_train, houseSalePrice_train))\n",
    "print(\"Explained Variance (R^2) on Test Set \\t:\", linreg.score(housePredictor_test, houseSalePrice_test))"
   ]
  },
  {
   "cell_type": "code",
   "execution_count": null,
   "metadata": {},
   "outputs": [],
   "source": []
  },
  {
   "cell_type": "markdown",
   "metadata": {},
   "source": [
    "---\n",
    "\n",
    "## Problem 2 : Predicting SalePrice using GarageArea\n",
    "\n",
    "Extract the required variables from the dataset, as mentioned in the problem.     "
   ]
  },
  {
   "cell_type": "code",
   "execution_count": null,
   "metadata": {},
   "outputs": [],
   "source": [
    "housePredictor = pd.DataFrame(houseData['GarageArea'])\n",
    "houseSalePrice = pd.DataFrame(houseData['SalePrice'])\n",
    "sb.jointplot(housePredictor, houseSalePrice, height = 12)"
   ]
  },
  {
   "cell_type": "markdown",
   "metadata": {},
   "source": [
    "#### Linear Regression on SalePrice vs Predictor"
   ]
  },
  {
   "cell_type": "code",
   "execution_count": null,
   "metadata": {},
   "outputs": [],
   "source": [
    "# Import LinearRegression model from Scikit-Learn\n",
    "from sklearn.linear_model import LinearRegression\n",
    "\n",
    "# Split the dataset into Train and Test       \n",
    "housePredictor_train = pd.DataFrame(housePredictor[:1100])\n",
    "housePredictor_test  = pd.DataFrame(housePredictor[-360:])\n",
    "houseSalePrice_train = pd.DataFrame(houseSalePrice[:1100])\n",
    "houseSalePrice_test  = pd.DataFrame(houseSalePrice[-360:])\n",
    "\n",
    "# Create a Linear Regression object\n",
    "linreg = LinearRegression()\n",
    "\n",
    "# Train the Linear Regression model\n",
    "linreg.fit(housePredictor_train, houseSalePrice_train)"
   ]
  },
  {
   "cell_type": "markdown",
   "metadata": {},
   "source": [
    "#### Visual Representation of the Linear Regression Model"
   ]
  },
  {
   "cell_type": "code",
   "execution_count": null,
   "metadata": {},
   "outputs": [],
   "source": [
    "print('Intercept \\t: b = ', linreg.intercept_)\n",
    "print('Coefficients \\t: a = ', linreg.coef_)\n",
    "\n",
    "# Formula for the Regression line\n",
    "regline_x = housePredictor_train\n",
    "regline_y = linreg.intercept_ + linreg.coef_ * housePredictor_train\n",
    "\n",
    "# Plot the Linear Regression line\n",
    "f, axes = plt.subplots(1, 1, figsize=(16, 8))\n",
    "plt.scatter(housePredictor_train, houseSalePrice_train)\n",
    "plt.plot(regline_x, regline_y, 'r-', linewidth = 3)\n",
    "plt.show()"
   ]
  },
  {
   "cell_type": "markdown",
   "metadata": {},
   "source": [
    "#### Prediction of Response based on the Predictor"
   ]
  },
  {
   "cell_type": "code",
   "execution_count": null,
   "metadata": {},
   "outputs": [],
   "source": [
    "# Predict SalePrice values corresponding to GrLivArea\n",
    "houseSalePrice_test_pred = linreg.predict(housePredictor_test)\n",
    "\n",
    "# Plot the Predictions\n",
    "f, axes = plt.subplots(1, 1, figsize=(16, 8))\n",
    "plt.scatter(housePredictor_test, houseSalePrice_test, color = \"green\")\n",
    "plt.scatter(housePredictor_test, houseSalePrice_test_pred, color = \"red\")\n",
    "plt.show()"
   ]
  },
  {
   "cell_type": "markdown",
   "metadata": {},
   "source": [
    "#### Goodness of Fit of the Linear Regression Model"
   ]
  },
  {
   "cell_type": "code",
   "execution_count": null,
   "metadata": {},
   "outputs": [],
   "source": [
    "print(\"Explained Variance (R^2) on Train Set \\t:\", linreg.score(housePredictor_train, houseSalePrice_train))\n",
    "print(\"Explained Variance (R^2) on Test Set \\t:\", linreg.score(housePredictor_test, houseSalePrice_test))"
   ]
  },
  {
   "cell_type": "code",
   "execution_count": null,
   "metadata": {},
   "outputs": [],
   "source": []
  },
  {
   "cell_type": "markdown",
   "metadata": {},
   "source": [
    "---\n",
    "\n",
    "## Extra : Predicting SalePrice using Multiple Variables\n",
    "\n",
    "Extract the required variables from the dataset, and then perform Multi-Variate Regression.     "
   ]
  },
  {
   "cell_type": "code",
   "execution_count": null,
   "metadata": {},
   "outputs": [],
   "source": [
    "housePredictor = pd.DataFrame(houseData[['GrLivArea','LotArea','TotalBsmtSF','GarageArea']])\n",
    "houseSalePrice = pd.DataFrame(houseData['SalePrice'])"
   ]
  },
  {
   "cell_type": "markdown",
   "metadata": {},
   "source": [
    "#### Linear Regression on SalePrice vs Predictor"
   ]
  },
  {
   "cell_type": "code",
   "execution_count": null,
   "metadata": {},
   "outputs": [],
   "source": [
    "# Import LinearRegression model from Scikit-Learn\n",
    "from sklearn.linear_model import LinearRegression\n",
    "\n",
    "# Split the dataset into Train and Test       \n",
    "housePredictor_train = pd.DataFrame(housePredictor[:1100])\n",
    "housePredictor_test  = pd.DataFrame(housePredictor[-360:])\n",
    "houseSalePrice_train = pd.DataFrame(houseSalePrice[:1100])\n",
    "houseSalePrice_test  = pd.DataFrame(houseSalePrice[-360:])\n",
    "\n",
    "# Create a Linear Regression object\n",
    "linreg = LinearRegression()\n",
    "\n",
    "# Train the Linear Regression model\n",
    "linreg.fit(housePredictor_train, houseSalePrice_train)"
   ]
  },
  {
   "cell_type": "markdown",
   "metadata": {},
   "source": [
    "#### Coefficients of the Linear Regression Model\n",
    "\n",
    "Note that you CANNOT visualize the model as a line on a 2D plot, as it is a multi-dimensional surface."
   ]
  },
  {
   "cell_type": "code",
   "execution_count": null,
   "metadata": {},
   "outputs": [],
   "source": [
    "print('Intercept \\t: b = ', linreg.intercept_)\n",
    "print('Coefficients \\t: a = ', linreg.coef_)"
   ]
  },
  {
   "cell_type": "markdown",
   "metadata": {},
   "source": [
    "#### Prediction of Response based on the Predictor"
   ]
  },
  {
   "cell_type": "code",
   "execution_count": null,
   "metadata": {},
   "outputs": [],
   "source": [
    "# Predict SalePrice values corresponding to GrLivArea\n",
    "houseSalePrice_train_pred = linreg.predict(housePredictor_train)\n",
    "houseSalePrice_test_pred = linreg.predict(housePredictor_test)\n",
    "\n",
    "# Plot the Predictions vs the True values\n",
    "f, axes = plt.subplots(1, 2, figsize=(24, 12))\n",
    "axes[0].scatter(houseSalePrice_train, houseSalePrice_train_pred, color = \"blue\")\n",
    "axes[0].plot(houseSalePrice_train, houseSalePrice_train, 'w-', linewidth = 1)\n",
    "axes[0].set_xlabel(\"True values of the Response Variable (Train)\")\n",
    "axes[0].set_ylabel(\"Predicted values of the Response Variable (Train)\")\n",
    "axes[1].scatter(houseSalePrice_test, houseSalePrice_test_pred, color = \"green\")\n",
    "axes[1].plot(houseSalePrice_test, houseSalePrice_test, 'w-', linewidth = 1)\n",
    "axes[1].set_xlabel(\"True values of the Response Variable (Test)\")\n",
    "axes[1].set_ylabel(\"Predicted values of the Response Variable (Test)\")\n",
    "plt.show()"
   ]
  },
  {
   "cell_type": "markdown",
   "metadata": {},
   "source": [
    "#### Goodness of Fit of the Linear Regression Model"
   ]
  },
  {
   "cell_type": "code",
   "execution_count": null,
   "metadata": {},
   "outputs": [],
   "source": [
    "print(\"Explained Variance (R^2) on Train Set \\t:\", linreg.score(housePredictor_train, houseSalePrice_train))\n",
    "print(\"Explained Variance (R^2) on Test Set \\t:\", linreg.score(housePredictor_test, houseSalePrice_test))"
   ]
  },
  {
   "cell_type": "code",
   "execution_count": null,
   "metadata": {},
   "outputs": [],
   "source": []
  },
  {
   "cell_type": "markdown",
   "metadata": {},
   "source": [
    "---\n",
    "\n",
    "## Interpretation and Discussion\n",
    "\n",
    "Now that you have performed Linear Regression of `SalePrice` against the four variables `GrLivArea`, `LotArea`, `TotalBsmtSF`, `GarageArea`, compare-and-contrast the Exaplained Variance (R^2) to determine which model is the best in order to predict `SalePrice`. What do you think?"
   ]
  },
  {
   "cell_type": "code",
   "execution_count": null,
   "metadata": {},
   "outputs": [],
   "source": []
  },
  {
   "cell_type": "code",
   "execution_count": null,
   "metadata": {},
   "outputs": [],
   "source": []
  }
 ],
 "metadata": {
  "kernelspec": {
   "display_name": "Python 3",
   "language": "python",
   "name": "python3"
  },
  "language_info": {
   "codemirror_mode": {
    "name": "ipython",
    "version": 3
   },
   "file_extension": ".py",
   "mimetype": "text/x-python",
   "name": "python",
   "nbconvert_exporter": "python",
   "pygments_lexer": "ipython3",
   "version": "3.6.8"
  }
 },
 "nbformat": 4,
 "nbformat_minor": 2
}

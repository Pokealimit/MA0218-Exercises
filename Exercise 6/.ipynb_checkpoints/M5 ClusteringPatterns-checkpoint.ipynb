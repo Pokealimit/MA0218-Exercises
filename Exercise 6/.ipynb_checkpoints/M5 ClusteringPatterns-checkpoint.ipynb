{
 "cells": [
  {
   "cell_type": "markdown",
   "metadata": {},
   "source": [
    "# Clustering Patterns in Python\n",
    "\n",
    "Dataset from Kaggle : **\"Pokemon with stats\"** by *Alberto Barradas*  \n",
    "Source: https://www.kaggle.com/abcsds/pokemon (requires login)\n",
    "\n",
    "---\n",
    "\n",
    "### Essential Libraries\n",
    "\n",
    "Let us begin by importing the essential Python Libraries.\n",
    "\n",
    "> NumPy : Library for Numeric Computations in Python  \n",
    "> Pandas : Library for Data Acquisition and Preparation  \n",
    "> Matplotlib : Low-level library for Data Visualization  \n",
    "> Seaborn : Higher-level library for Data Visualization  "
   ]
  },
  {
   "cell_type": "code",
   "execution_count": null,
   "metadata": {},
   "outputs": [],
   "source": [
    "# Basic Libraries\n",
    "import numpy as np\n",
    "import pandas as pd\n",
    "import seaborn as sb\n",
    "import matplotlib.pyplot as plt # we only need pyplot\n",
    "sb.set() # set the default Seaborn style for graphics"
   ]
  },
  {
   "cell_type": "markdown",
   "metadata": {},
   "source": [
    "---\n",
    "\n",
    "### Import the Dataset\n",
    "\n",
    "The dataset is in CSV format; hence we use the `read_csv` function from Pandas.  \n",
    "Immediately after importing, take a quick look at the data using the `head` function."
   ]
  },
  {
   "cell_type": "code",
   "execution_count": null,
   "metadata": {},
   "outputs": [],
   "source": [
    "pkmndata = pd.read_csv('pokemonData.csv')\n",
    "pkmndata.head()"
   ]
  },
  {
   "cell_type": "markdown",
   "metadata": {},
   "source": [
    "Description of the dataset, as available on Kaggle, is as follows.\n",
    "Learn more : https://en.wikipedia.org/wiki/List_of_Pok%C3%A9mon\n",
    "\n",
    "> **\\#** : ID for each Pokemon (runs from 1 to 721)  \n",
    "> **Name** : Name of each Pokemon  \n",
    "> **Type 1** : Each Pokemon has a basic Type, this determines weakness/resistance to attacks  \n",
    "> **Type 2** : Some Pokemons are dual type and have a Type 2 value (set to nan otherwise)  \n",
    "> **Total** : Sum of all stats of a Pokemon, a general guide to how strong a Pokemon is  \n",
    "> **HP** : Hit Points, defines how much damage a Pokemon can withstand before fainting  \n",
    "> **Attack** : The base modifier for normal attacks by the Pokemon (e.g., scratch, punch etc.)  \n",
    "> **Defense** : The base damage resistance of the Pokemon against normal attacks  \n",
    "> **SP Atk** : Special Attack, the base modifier for special attacks (e.g. fire blast, bubble beam)  \n",
    "> **SP Def** : Special Defense, the base damage resistance against special attacks  \n",
    "> **Speed** : Determines which Pokemon attacks first each round  \n",
    "> **Generation** : Each Pokemon belongs to a certain Generation  \n",
    "> **Legendary** : Legendary Pokemons are powerful, rare, and hard to catch\n",
    "\n",
    "---\n",
    "\n",
    "Check the vital statistics of the dataset using the `type` and `shape` attributes."
   ]
  },
  {
   "cell_type": "code",
   "execution_count": null,
   "metadata": {},
   "outputs": [],
   "source": [
    "print(\"Data type : \", type(pkmndata))\n",
    "print(\"Data dims : \", pkmndata.shape)"
   ]
  },
  {
   "cell_type": "markdown",
   "metadata": {},
   "source": [
    "Check the variables (and their types) in the dataset using the `dtypes` attribute."
   ]
  },
  {
   "cell_type": "code",
   "execution_count": null,
   "metadata": {},
   "outputs": [],
   "source": [
    "print(pkmndata.dtypes)"
   ]
  },
  {
   "cell_type": "code",
   "execution_count": null,
   "metadata": {},
   "outputs": [],
   "source": []
  },
  {
   "cell_type": "markdown",
   "metadata": {},
   "source": [
    "---\n",
    "\n",
    "## Bi-Variate KMeans Clustering\n",
    "\n",
    "Set up a Bi-Variate Clustering problem on the Pokemon Dataset.   \n",
    "Features to be used for Clustering : **Total, Speed**       \n",
    "\n",
    "Note : There is no Predictor or Response (Unsupervised Learning)."
   ]
  },
  {
   "cell_type": "code",
   "execution_count": null,
   "metadata": {},
   "outputs": [],
   "source": [
    "# Extract the Features from the Data\n",
    "X = pd.DataFrame(pkmndata[[\"Total\", \"Speed\"]])\n",
    "\n",
    "# Plot the Raw Data on a 2D grid\n",
    "f, axes = plt.subplots(1, 1, figsize=(16,8))\n",
    "plt.scatter(x = \"Total\", y = \"Speed\", data = X)"
   ]
  },
  {
   "cell_type": "markdown",
   "metadata": {},
   "source": [
    "#### Basic KMeans Clustering\n",
    "\n",
    "Guess the number of clusters from the 2D plot, and perform KMeans Clustering.    \n",
    "We will use the `KMeans` clustering model from `sklearn.cluster` module."
   ]
  },
  {
   "cell_type": "code",
   "execution_count": null,
   "metadata": {},
   "outputs": [],
   "source": [
    "# Import KMeans from sklearn.cluster\n",
    "from sklearn.cluster import KMeans\n",
    "\n",
    "# Guess the Number of Clusters\n",
    "num_clust = 3\n",
    "\n",
    "# Create Clustering Model using KMeans\n",
    "kmeans = KMeans(n_clusters = num_clust)\n",
    "\n",
    "# Fit the Clustering Model on the Data\n",
    "kmeans.fit(X)"
   ]
  },
  {
   "cell_type": "markdown",
   "metadata": {},
   "source": [
    "Print the Cluster Centers as Co-ordinates of Features"
   ]
  },
  {
   "cell_type": "code",
   "execution_count": null,
   "metadata": {},
   "outputs": [],
   "source": [
    "# Print the Cluster Centers\n",
    "print(\"Features\", \"\\tTotal\", \"\\tSpeed\")\n",
    "print()\n",
    "\n",
    "for i, center in enumerate(kmeans.cluster_centers_):\n",
    "    print(\"Cluster\", i, end=\":\\t\")\n",
    "    for coord in center:\n",
    "        print(round(coord, 2), end=\"\\t\")\n",
    "    print()"
   ]
  },
  {
   "cell_type": "markdown",
   "metadata": {},
   "source": [
    "#### Labeling the Clusters in the Data\n",
    "\n",
    "We may use the model on the data to `predict` the clusters."
   ]
  },
  {
   "cell_type": "code",
   "execution_count": null,
   "metadata": {},
   "outputs": [],
   "source": [
    "# Predict the Cluster Labels\n",
    "labels = kmeans.predict(X)\n",
    "\n",
    "# Append Labels to the Data\n",
    "X_labeled = X.copy()\n",
    "X_labeled[\"Cluster\"] = pd.Categorical(labels)\n",
    "\n",
    "# Summary of the Cluster Labels\n",
    "sb.countplot(X_labeled[\"Cluster\"])"
   ]
  },
  {
   "cell_type": "code",
   "execution_count": null,
   "metadata": {},
   "outputs": [],
   "source": [
    "# Visualize the Clusters in the Data\n",
    "f, axes = plt.subplots(1, 1, figsize=(16,8))\n",
    "plt.scatter(x = \"Total\", y = \"Speed\", c = \"Cluster\", cmap = 'viridis', data = X_labeled)"
   ]
  },
  {
   "cell_type": "markdown",
   "metadata": {},
   "source": [
    "#### Within Cluster Sum of Squares\n",
    "\n",
    "WithinSS = 0 : Every data point is a cluster on its own    \n",
    "WithinSS = Variance : Whole dataset is a single cluster"
   ]
  },
  {
   "cell_type": "code",
   "execution_count": null,
   "metadata": {},
   "outputs": [],
   "source": [
    "# Print the Within Cluster Sum of Squares\n",
    "print(\"Within Cluster Sum of Squares :\", kmeans.inertia_)"
   ]
  },
  {
   "cell_type": "markdown",
   "metadata": {},
   "source": [
    "Vary the Number of Clusters to obtain a distribution of WithinSS."
   ]
  },
  {
   "cell_type": "code",
   "execution_count": null,
   "metadata": {},
   "outputs": [],
   "source": [
    "# Import KMeans from sklearn.cluster\n",
    "from sklearn.cluster import KMeans\n",
    "\n",
    "# Extract the Features from the Data\n",
    "X = pd.DataFrame(pkmndata[[\"Total\", \"Speed\"]])\n",
    "\n",
    "# Vary the Number of Clusters\n",
    "min_clust = 1\n",
    "max_clust = 40\n",
    "\n",
    "# Compute Within Cluster Sum of Squares\n",
    "within_ss = []\n",
    "for num_clust in range(min_clust, max_clust+1):\n",
    "    kmeans = KMeans(n_clusters = num_clust)\n",
    "    kmeans.fit(X)\n",
    "    within_ss.append(kmeans.inertia_)\n",
    "\n",
    "# Plot Within SS vs Number of Clusters\n",
    "f, axes = plt.subplots(1, 1, figsize=(16,4))\n",
    "plt.plot(range(min_clust, max_clust+1), within_ss)\n",
    "plt.xlabel('Number of Clusters')\n",
    "plt.ylabel('Within Cluster Sum of Squares')\n",
    "plt.xticks(np.arange(min_clust, max_clust+1, 1.0))\n",
    "plt.grid(which='major', axis='y')\n",
    "plt.show()"
   ]
  },
  {
   "cell_type": "markdown",
   "metadata": {},
   "source": [
    "#### Optimal Clustering\n",
    "\n",
    "Choose the \"optimal\" number of clusters from the plot."
   ]
  },
  {
   "cell_type": "code",
   "execution_count": null,
   "metadata": {},
   "outputs": [],
   "source": [
    "# Set \"optimal\" Number of Clusters\n",
    "num_clust = 4\n",
    "\n",
    "# Create Clustering Model using KMeans\n",
    "kmeans = KMeans(n_clusters = num_clust)                 \n",
    "\n",
    "# Fit the Clustering Model on the Data\n",
    "kmeans.fit(X)\n",
    "\n",
    "# Print the Cluster Centers\n",
    "for i, center in enumerate(kmeans.cluster_centers_):\n",
    "    print(\"Cluster\", i, end=\":\\t\")\n",
    "    for coord in center:\n",
    "        print(round(coord, 2), end=\"\\t\")\n",
    "    print()\n",
    "print()\n",
    "\n",
    "# Print the Within Cluster Sum of Squares\n",
    "print(\"Within Cluster Sum of Squares :\", kmeans.inertia_)\n",
    "print()\n",
    "\n",
    "# Predict the Cluster Labels\n",
    "labels = kmeans.predict(X)\n",
    "\n",
    "# Append Labels to the Data\n",
    "X_labeled = X.copy()\n",
    "X_labeled[\"Cluster\"] = pd.Categorical(labels)\n",
    "\n",
    "# Summary of the Cluster Labels\n",
    "sb.countplot(X_labeled[\"Cluster\"])"
   ]
  },
  {
   "cell_type": "code",
   "execution_count": null,
   "metadata": {},
   "outputs": [],
   "source": [
    "# Visualize the Clusters in the Data\n",
    "f, axes = plt.subplots(1, 1, figsize=(16,8))\n",
    "plt.scatter(x = \"Total\", y = \"Speed\", c = \"Cluster\", cmap = 'viridis', data = X_labeled)"
   ]
  },
  {
   "cell_type": "markdown",
   "metadata": {},
   "source": [
    "#### Interpret the Clusters\n",
    "\n",
    "Try to interpret the clusters by exploring the Features across them."
   ]
  },
  {
   "cell_type": "code",
   "execution_count": null,
   "metadata": {},
   "outputs": [],
   "source": [
    "# Boxplots for the Features against the Clusters\n",
    "f, axes = plt.subplots(2, 1, figsize=(16,8))\n",
    "sb.boxplot(x = 'Total', y = 'Cluster', data = X_labeled, ax = axes[0])\n",
    "sb.boxplot(x = 'Speed', y = 'Cluster', data = X_labeled, ax = axes[1])"
   ]
  },
  {
   "cell_type": "code",
   "execution_count": null,
   "metadata": {},
   "outputs": [],
   "source": [
    "# Average Behaviour of each Cluster\n",
    "cluster_data = pd.DataFrame(X_labeled.groupby(by = \"Cluster\").mean())\n",
    "cluster_data.plot.bar(figsize = (16,6))"
   ]
  },
  {
   "cell_type": "code",
   "execution_count": null,
   "metadata": {},
   "outputs": [],
   "source": []
  },
  {
   "cell_type": "markdown",
   "metadata": {},
   "source": [
    "---\n",
    "\n",
    "## KMeans++ Clustering (Bi-Variate)\n",
    "\n",
    "Set up a Bi-Variate Clustering problem on the Pokemon Dataset.   \n",
    "Features to be used for Clustering : **Total, Speed**       \n",
    "\n",
    "In this case, we will use the optimized `KMeans++` algorithm."
   ]
  },
  {
   "cell_type": "code",
   "execution_count": null,
   "metadata": {},
   "outputs": [],
   "source": [
    "# Import KMeans from sklearn.cluster\n",
    "from sklearn.cluster import KMeans\n",
    "\n",
    "# Extract the Features from the Data\n",
    "X = pd.DataFrame(pkmndata[[\"Total\", \"Speed\"]])\n",
    "\n",
    "# Set the Initialization to KMeans++\n",
    "init_algo = 'k-means++'\n",
    "\n",
    "# Vary the Number of Clusters\n",
    "min_clust = 1\n",
    "max_clust = 40\n",
    "\n",
    "# Compute Within Cluster Sum of Squares\n",
    "within_ss = []\n",
    "for num_clust in range(min_clust, max_clust+1):\n",
    "    kmeans = KMeans(n_clusters = num_clust,        # number of clusters\n",
    "                    init = init_algo,              # initialization algorithm\n",
    "                    n_init = 5)                    # number of initializations\n",
    "    kmeans.fit(X)\n",
    "    within_ss.append(kmeans.inertia_)\n",
    "\n",
    "# Plot Within SS vs Number of Clusters\n",
    "f, axes = plt.subplots(1, 1, figsize=(16,4))\n",
    "plt.plot(range(min_clust, max_clust+1), within_ss)\n",
    "plt.xlabel('Number of Clusters')\n",
    "plt.ylabel('Within Cluster Sum of Squares')\n",
    "plt.xticks(np.arange(min_clust, max_clust+1, 1.0))\n",
    "plt.grid(which='major', axis='y')\n",
    "plt.show()"
   ]
  },
  {
   "cell_type": "markdown",
   "metadata": {},
   "source": [
    "#### Optimal Clustering\n",
    "\n",
    "Choose the \"optimal\" number of clusters from the plot."
   ]
  },
  {
   "cell_type": "code",
   "execution_count": null,
   "metadata": {},
   "outputs": [],
   "source": [
    "# Set \"optimal\" Number of Clusters\n",
    "num_clust = 4\n",
    "\n",
    "# Set the Initialization to KMeans++\n",
    "init_algo = 'k-means++'\n",
    "\n",
    "# Create Clustering Model using KMeans\n",
    "kmeans = KMeans(n_clusters = num_clust, init = init_algo, n_init = 20)                 \n",
    "\n",
    "# Fit the Clustering Model on the Data\n",
    "kmeans.fit(X)\n",
    "\n",
    "# Print the Cluster Centers\n",
    "print(\"Features\", \"\\tTotal\", \"\\tSpeed\")\n",
    "print()\n",
    "\n",
    "for i, center in enumerate(kmeans.cluster_centers_):\n",
    "    print(\"Cluster\", i, end=\":\\t\")\n",
    "    for coord in center:\n",
    "        print(round(coord, 2), end=\"\\t\")\n",
    "    print()\n",
    "print()\n",
    "\n",
    "# Print the Within Cluster Sum of Squares\n",
    "print(\"Within Cluster Sum of Squares :\", kmeans.inertia_)\n",
    "print()\n",
    "\n",
    "# Predict the Cluster Labels\n",
    "labels = kmeans.predict(X)\n",
    "\n",
    "# Append Labels to the Data\n",
    "X_labeled = X.copy()\n",
    "X_labeled[\"Cluster\"] = pd.Categorical(labels)\n",
    "\n",
    "# Summary of the Cluster Labels\n",
    "sb.countplot(X_labeled[\"Cluster\"])"
   ]
  },
  {
   "cell_type": "code",
   "execution_count": null,
   "metadata": {},
   "outputs": [],
   "source": [
    "# Visualize the Clusters in the Data\n",
    "f, axes = plt.subplots(1, 1, figsize=(16,8))\n",
    "plt.scatter(x = \"Total\", y = \"Speed\", c = \"Cluster\", cmap = 'viridis', data = X_labeled)"
   ]
  },
  {
   "cell_type": "markdown",
   "metadata": {},
   "source": [
    "#### Interpret the Clusters\n",
    "\n",
    "Try to interpret the clusters by exploring the Features across them."
   ]
  },
  {
   "cell_type": "code",
   "execution_count": null,
   "metadata": {},
   "outputs": [],
   "source": [
    "# Boxplots for the Features against the Clusters\n",
    "f, axes = plt.subplots(2, 1, figsize=(16,8))\n",
    "sb.boxplot(x = 'Total', y = 'Cluster', data = X_labeled, ax = axes[0])\n",
    "sb.boxplot(x = 'Speed', y = 'Cluster', data = X_labeled, ax = axes[1])"
   ]
  },
  {
   "cell_type": "code",
   "execution_count": null,
   "metadata": {},
   "outputs": [],
   "source": []
  },
  {
   "cell_type": "markdown",
   "metadata": {},
   "source": [
    "---\n",
    "\n",
    "## Multi-Variate Clustering\n",
    "\n",
    "Set up a Multi-Variate Clustering problem on the Pokemon Dataset.   \n",
    "Features : **Total, HP, Attack, Defense, Sp. Atk, Sp. Def, Speed**  \n",
    "\n",
    "In this case, we will use the optimized `KMeans++` algorithm."
   ]
  },
  {
   "cell_type": "code",
   "execution_count": null,
   "metadata": {},
   "outputs": [],
   "source": [
    "# Extract the Features from the Data\n",
    "X = pd.DataFrame(pkmndata[[\"HP\", \"Attack\", \"Defense\", \"Sp. Atk\", \"Sp. Def\", \"Speed\"]]) \n",
    "\n",
    "# Plot the Raw Data on 2D grids\n",
    "sb.pairplot(X)"
   ]
  },
  {
   "cell_type": "code",
   "execution_count": null,
   "metadata": {},
   "outputs": [],
   "source": [
    "# Vary the Number of Clusters\n",
    "min_clust = 1\n",
    "max_clust = 40\n",
    "init_algo = 'k-means++'\n",
    "\n",
    "# Compute Within Cluster Sum of Squares\n",
    "within_ss = []\n",
    "for num_clust in range(min_clust, max_clust+1):\n",
    "    kmeans = KMeans(n_clusters = num_clust, init = init_algo, n_init = 5)\n",
    "    kmeans.fit(X)\n",
    "    within_ss.append(kmeans.inertia_)\n",
    "\n",
    "# Angle Plot : Within SS vs Number of Clusters\n",
    "f, axes = plt.subplots(1, 1, figsize=(16,4))\n",
    "plt.plot(range(min_clust, max_clust+1), within_ss)\n",
    "plt.xlabel('Number of Clusters')\n",
    "plt.ylabel('Within Cluster Sum of Squares')\n",
    "plt.xticks(np.arange(min_clust, max_clust+1, 1.0))\n",
    "plt.grid(which='major', axis='y')\n",
    "plt.show()"
   ]
  },
  {
   "cell_type": "code",
   "execution_count": null,
   "metadata": {},
   "outputs": [],
   "source": [
    "# Import essential models from sklearn\n",
    "from sklearn.cluster import KMeans\n",
    "\n",
    "# Set \"optimal\" Clustering Parameters\n",
    "num_clust = 6\n",
    "init_algo = 'k-means++'\n",
    "\n",
    "# Create Clustering Model using KMeans\n",
    "kmeans = KMeans(n_clusters = num_clust,         \n",
    "               init = init_algo,\n",
    "               n_init = 20)                 \n",
    "\n",
    "# Fit the Clustering Model on the Data\n",
    "kmeans.fit(X)"
   ]
  },
  {
   "cell_type": "code",
   "execution_count": null,
   "metadata": {},
   "outputs": [],
   "source": [
    "# Print the Cluster Centers\n",
    "print(\"Features\", \"\\tHP\", \"\\tAtt\", \"\\tDef\", \"\\tSpAtk\", \"\\tSpDef\", \"\\tSpeed\")\n",
    "print()\n",
    "\n",
    "for i, center in enumerate(kmeans.cluster_centers_):\n",
    "    print(\"Cluster\", i, end=\":\\t\")\n",
    "    for coord in center:\n",
    "        print(round(coord, 2), end=\"\\t\")\n",
    "    print()\n",
    "print()\n",
    "\n",
    "# Print the Within Cluster Sum of Squares\n",
    "print(\"Within Cluster Sum of Squares :\", kmeans.inertia_)\n",
    "print()\n",
    "\n",
    "# Predict the Cluster Labels\n",
    "labels = kmeans.predict(X)\n",
    "\n",
    "# Append Labels to the Data\n",
    "X_labeled = X.copy()\n",
    "X_labeled[\"Cluster\"] = pd.Categorical(labels)\n",
    "\n",
    "# Summary of the Cluster Labels\n",
    "sb.countplot(X_labeled[\"Cluster\"])"
   ]
  },
  {
   "cell_type": "code",
   "execution_count": null,
   "metadata": {},
   "outputs": [],
   "source": [
    "# Plot the Clusters on 2D grids\n",
    "sb.pairplot(X_labeled, vars = X.columns.values, hue = \"Cluster\")"
   ]
  },
  {
   "cell_type": "code",
   "execution_count": null,
   "metadata": {},
   "outputs": [],
   "source": [
    "# Boxplots for all Features against the Clusters\n",
    "f, axes = plt.subplots(6, 1, figsize=(16,24))\n",
    "sb.boxplot(x = 'HP', y = 'Cluster', data = X_labeled, ax = axes[0])\n",
    "sb.boxplot(x = 'Attack', y = 'Cluster', data = X_labeled, ax = axes[1])\n",
    "sb.boxplot(x = 'Defense', y = 'Cluster', data = X_labeled, ax = axes[2])\n",
    "sb.boxplot(x = 'Sp. Atk', y = 'Cluster', data = X_labeled, ax = axes[3])\n",
    "sb.boxplot(x = 'Sp. Def', y = 'Cluster', data = X_labeled, ax = axes[4])\n",
    "sb.boxplot(x = 'Speed', y = 'Cluster', data = X_labeled, ax = axes[5])"
   ]
  },
  {
   "cell_type": "code",
   "execution_count": null,
   "metadata": {},
   "outputs": [],
   "source": [
    "# Average Behaviour of each Cluster\n",
    "cluster_data = pd.DataFrame(X_labeled.groupby(by = \"Cluster\").mean())\n",
    "cluster_data.plot.bar(figsize = (16,6))"
   ]
  },
  {
   "cell_type": "code",
   "execution_count": null,
   "metadata": {},
   "outputs": [],
   "source": []
  },
  {
   "cell_type": "code",
   "execution_count": null,
   "metadata": {},
   "outputs": [],
   "source": []
  }
 ],
 "metadata": {
  "kernelspec": {
   "display_name": "Python 3",
   "language": "python",
   "name": "python3"
  },
  "language_info": {
   "codemirror_mode": {
    "name": "ipython",
    "version": 3
   },
   "file_extension": ".py",
   "mimetype": "text/x-python",
   "name": "python",
   "nbconvert_exporter": "python",
   "pygments_lexer": "ipython3",
   "version": "3.6.7"
  }
 },
 "nbformat": 4,
 "nbformat_minor": 2
}
